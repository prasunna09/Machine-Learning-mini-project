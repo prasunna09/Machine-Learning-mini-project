{
  "nbformat": 4,
  "nbformat_minor": 0,
  "metadata": {
    "colab": {
      "name": "ML_approach in stock prediction.ipynb",
      "provenance": [],
      "collapsed_sections": [
        "FzzUd3drPFN9",
        "_onWJiGDRdM5",
        "3horB6CpSQGc",
        "YF8BT_UlSnt6",
        "Tgvdl2QHTBPg",
        "d_25OrxHj_Ay",
        "gwafC3HqRH-H",
        "HMuzT4F2Zdnk",
        "sbQiWE9rbh5c",
        "p-WkxwYIpD3v",
        "UBZReTZdqSb0",
        "rOoe1mpBsv9l",
        "jAywZrfPtzMr"
      ],
      "mount_file_id": "1ekDhsvYtJLNJWDP6zm9WNYzDq3-WIq0F",
      "authorship_tag": "ABX9TyMx807yCuha/3frJ4GoXufV",
      "include_colab_link": true
    },
    "kernelspec": {
      "name": "python3",
      "display_name": "Python 3"
    },
    "language_info": {
      "name": "python"
    }
  },
  "cells": [
    {
      "cell_type": "markdown",
      "metadata": {
        "id": "view-in-github",
        "colab_type": "text"
      },
      "source": [
        "<a href=\"https://colab.research.google.com/github/prasunna09/Machine-Learning-mini-project/blob/main/ML_approach_in_stock_prediction.ipynb\" target=\"_parent\"><img src=\"https://colab.research.google.com/assets/colab-badge.svg\" alt=\"Open In Colab\"/></a>"
      ]
    },
    {
      "cell_type": "code",
      "metadata": {
        "id": "hvpxGjpfb9pR"
      },
      "source": [
        "import numpy as np\n",
        "import pandas as pd\n",
        "import matplotlib.pyplot as plt"
      ],
      "execution_count": 1,
      "outputs": []
    },
    {
      "cell_type": "code",
      "metadata": {
        "colab": {
          "base_uri": "https://localhost:8080/",
          "height": 319
        },
        "id": "JrM0Il6FcRjM",
        "outputId": "7339f593-905c-401d-900d-0f2b5b9d4901"
      },
      "source": [
        "df = pd.read_excel('/content/drive/MyDrive/Colab Notebooks/ml_mini_project/stock portfolio performance data set (1).xlsx', sheet_name='3rd period')\n",
        "df.head()"
      ],
      "execution_count": 16,
      "outputs": [
        {
          "output_type": "execute_result",
          "data": {
            "text/html": [
              "\n",
              "  <div id=\"df-40906002-b813-4361-aeed-f5dfbbeb1ead\">\n",
              "    <div class=\"colab-df-container\">\n",
              "      <div>\n",
              "<style scoped>\n",
              "    .dataframe tbody tr th:only-of-type {\n",
              "        vertical-align: middle;\n",
              "    }\n",
              "\n",
              "    .dataframe tbody tr th {\n",
              "        vertical-align: top;\n",
              "    }\n",
              "\n",
              "    .dataframe thead th {\n",
              "        text-align: right;\n",
              "    }\n",
              "</style>\n",
              "<table border=\"1\" class=\"dataframe\">\n",
              "  <thead>\n",
              "    <tr style=\"text-align: right;\">\n",
              "      <th></th>\n",
              "      <th>Unnamed: 0</th>\n",
              "      <th>the weight of the stock-picking concept</th>\n",
              "      <th>Unnamed: 2</th>\n",
              "      <th>Unnamed: 3</th>\n",
              "      <th>Unnamed: 4</th>\n",
              "      <th>Unnamed: 5</th>\n",
              "      <th>Unnamed: 6</th>\n",
              "      <th>the normalized  investment performance indicator</th>\n",
              "      <th>Unnamed: 8</th>\n",
              "      <th>Unnamed: 9</th>\n",
              "      <th>Unnamed: 10</th>\n",
              "      <th>Unnamed: 11</th>\n",
              "      <th>Unnamed: 12</th>\n",
              "    </tr>\n",
              "  </thead>\n",
              "  <tbody>\n",
              "    <tr>\n",
              "      <th>0</th>\n",
              "      <td>ID</td>\n",
              "      <td>Large B/P</td>\n",
              "      <td>Large ROE</td>\n",
              "      <td>Large S/P</td>\n",
              "      <td>Large Return Rate in the last quarter</td>\n",
              "      <td>Large Market Value</td>\n",
              "      <td>Small systematic Risk</td>\n",
              "      <td>Annual Return</td>\n",
              "      <td>Excess Return</td>\n",
              "      <td>Systematic Risk</td>\n",
              "      <td>Total Risk</td>\n",
              "      <td>Abs. Win Rate</td>\n",
              "      <td>Rel. Win Rate</td>\n",
              "    </tr>\n",
              "    <tr>\n",
              "      <th>1</th>\n",
              "      <td>1</td>\n",
              "      <td>1</td>\n",
              "      <td>0</td>\n",
              "      <td>0</td>\n",
              "      <td>0</td>\n",
              "      <td>0</td>\n",
              "      <td>0</td>\n",
              "      <td>0.647161</td>\n",
              "      <td>0.688251</td>\n",
              "      <td>0.8</td>\n",
              "      <td>0.8</td>\n",
              "      <td>0.457143</td>\n",
              "      <td>0.65</td>\n",
              "    </tr>\n",
              "    <tr>\n",
              "      <th>2</th>\n",
              "      <td>2</td>\n",
              "      <td>0</td>\n",
              "      <td>1</td>\n",
              "      <td>0</td>\n",
              "      <td>0</td>\n",
              "      <td>0</td>\n",
              "      <td>0</td>\n",
              "      <td>0.492034</td>\n",
              "      <td>0.494779</td>\n",
              "      <td>0.488481</td>\n",
              "      <td>0.460754</td>\n",
              "      <td>0.285714</td>\n",
              "      <td>0.65</td>\n",
              "    </tr>\n",
              "    <tr>\n",
              "      <th>3</th>\n",
              "      <td>3</td>\n",
              "      <td>0</td>\n",
              "      <td>0</td>\n",
              "      <td>1</td>\n",
              "      <td>0</td>\n",
              "      <td>0</td>\n",
              "      <td>0</td>\n",
              "      <td>0.791489</td>\n",
              "      <td>0.8</td>\n",
              "      <td>0.579796</td>\n",
              "      <td>0.67053</td>\n",
              "      <td>0.457143</td>\n",
              "      <td>0.725</td>\n",
              "    </tr>\n",
              "    <tr>\n",
              "      <th>4</th>\n",
              "      <td>4</td>\n",
              "      <td>0</td>\n",
              "      <td>0</td>\n",
              "      <td>0</td>\n",
              "      <td>1</td>\n",
              "      <td>0</td>\n",
              "      <td>0</td>\n",
              "      <td>0.218169</td>\n",
              "      <td>0.263772</td>\n",
              "      <td>0.680969</td>\n",
              "      <td>0.764019</td>\n",
              "      <td>0.2</td>\n",
              "      <td>0.275</td>\n",
              "    </tr>\n",
              "  </tbody>\n",
              "</table>\n",
              "</div>\n",
              "      <button class=\"colab-df-convert\" onclick=\"convertToInteractive('df-40906002-b813-4361-aeed-f5dfbbeb1ead')\"\n",
              "              title=\"Convert this dataframe to an interactive table.\"\n",
              "              style=\"display:none;\">\n",
              "        \n",
              "  <svg xmlns=\"http://www.w3.org/2000/svg\" height=\"24px\"viewBox=\"0 0 24 24\"\n",
              "       width=\"24px\">\n",
              "    <path d=\"M0 0h24v24H0V0z\" fill=\"none\"/>\n",
              "    <path d=\"M18.56 5.44l.94 2.06.94-2.06 2.06-.94-2.06-.94-.94-2.06-.94 2.06-2.06.94zm-11 1L8.5 8.5l.94-2.06 2.06-.94-2.06-.94L8.5 2.5l-.94 2.06-2.06.94zm10 10l.94 2.06.94-2.06 2.06-.94-2.06-.94-.94-2.06-.94 2.06-2.06.94z\"/><path d=\"M17.41 7.96l-1.37-1.37c-.4-.4-.92-.59-1.43-.59-.52 0-1.04.2-1.43.59L10.3 9.45l-7.72 7.72c-.78.78-.78 2.05 0 2.83L4 21.41c.39.39.9.59 1.41.59.51 0 1.02-.2 1.41-.59l7.78-7.78 2.81-2.81c.8-.78.8-2.07 0-2.86zM5.41 20L4 18.59l7.72-7.72 1.47 1.35L5.41 20z\"/>\n",
              "  </svg>\n",
              "      </button>\n",
              "      \n",
              "  <style>\n",
              "    .colab-df-container {\n",
              "      display:flex;\n",
              "      flex-wrap:wrap;\n",
              "      gap: 12px;\n",
              "    }\n",
              "\n",
              "    .colab-df-convert {\n",
              "      background-color: #E8F0FE;\n",
              "      border: none;\n",
              "      border-radius: 50%;\n",
              "      cursor: pointer;\n",
              "      display: none;\n",
              "      fill: #1967D2;\n",
              "      height: 32px;\n",
              "      padding: 0 0 0 0;\n",
              "      width: 32px;\n",
              "    }\n",
              "\n",
              "    .colab-df-convert:hover {\n",
              "      background-color: #E2EBFA;\n",
              "      box-shadow: 0px 1px 2px rgba(60, 64, 67, 0.3), 0px 1px 3px 1px rgba(60, 64, 67, 0.15);\n",
              "      fill: #174EA6;\n",
              "    }\n",
              "\n",
              "    [theme=dark] .colab-df-convert {\n",
              "      background-color: #3B4455;\n",
              "      fill: #D2E3FC;\n",
              "    }\n",
              "\n",
              "    [theme=dark] .colab-df-convert:hover {\n",
              "      background-color: #434B5C;\n",
              "      box-shadow: 0px 1px 3px 1px rgba(0, 0, 0, 0.15);\n",
              "      filter: drop-shadow(0px 1px 2px rgba(0, 0, 0, 0.3));\n",
              "      fill: #FFFFFF;\n",
              "    }\n",
              "  </style>\n",
              "\n",
              "      <script>\n",
              "        const buttonEl =\n",
              "          document.querySelector('#df-40906002-b813-4361-aeed-f5dfbbeb1ead button.colab-df-convert');\n",
              "        buttonEl.style.display =\n",
              "          google.colab.kernel.accessAllowed ? 'block' : 'none';\n",
              "\n",
              "        async function convertToInteractive(key) {\n",
              "          const element = document.querySelector('#df-40906002-b813-4361-aeed-f5dfbbeb1ead');\n",
              "          const dataTable =\n",
              "            await google.colab.kernel.invokeFunction('convertToInteractive',\n",
              "                                                     [key], {});\n",
              "          if (!dataTable) return;\n",
              "\n",
              "          const docLinkHtml = 'Like what you see? Visit the ' +\n",
              "            '<a target=\"_blank\" href=https://colab.research.google.com/notebooks/data_table.ipynb>data table notebook</a>'\n",
              "            + ' to learn more about interactive tables.';\n",
              "          element.innerHTML = '';\n",
              "          dataTable['output_type'] = 'display_data';\n",
              "          await google.colab.output.renderOutput(dataTable, element);\n",
              "          const docLink = document.createElement('div');\n",
              "          docLink.innerHTML = docLinkHtml;\n",
              "          element.appendChild(docLink);\n",
              "        }\n",
              "      </script>\n",
              "    </div>\n",
              "  </div>\n",
              "  "
            ],
            "text/plain": [
              "  Unnamed: 0  ...    Unnamed: 12\n",
              "0         ID  ...  Rel. Win Rate\n",
              "1          1  ...           0.65\n",
              "2          2  ...           0.65\n",
              "3          3  ...          0.725\n",
              "4          4  ...          0.275\n",
              "\n",
              "[5 rows x 13 columns]"
            ]
          },
          "metadata": {},
          "execution_count": 16
        }
      ]
    },
    {
      "cell_type": "code",
      "metadata": {
        "id": "w9AAXv1ccddD"
      },
      "source": [
        "new_header = df.iloc[0] #grab the first row for the header\n",
        "df = df[1:] #take the data less the header row\n",
        "df.columns = new_header #set the header row as the df header\n"
      ],
      "execution_count": 17,
      "outputs": []
    },
    {
      "cell_type": "code",
      "metadata": {
        "id": "1yM6aKKPh1vC"
      },
      "source": [
        "df = df.drop('ID', axis=1)"
      ],
      "execution_count": 18,
      "outputs": []
    },
    {
      "cell_type": "code",
      "metadata": {
        "colab": {
          "base_uri": "https://localhost:8080/",
          "height": 267
        },
        "id": "dtNpxHz8h5WQ",
        "outputId": "591ceff2-d56e-4957-aa49-fa5dd06b6b65"
      },
      "source": [
        "df.head()"
      ],
      "execution_count": 19,
      "outputs": [
        {
          "output_type": "execute_result",
          "data": {
            "text/html": [
              "\n",
              "  <div id=\"df-d004c08f-e754-4a20-8c21-3dac709ce7a4\">\n",
              "    <div class=\"colab-df-container\">\n",
              "      <div>\n",
              "<style scoped>\n",
              "    .dataframe tbody tr th:only-of-type {\n",
              "        vertical-align: middle;\n",
              "    }\n",
              "\n",
              "    .dataframe tbody tr th {\n",
              "        vertical-align: top;\n",
              "    }\n",
              "\n",
              "    .dataframe thead th {\n",
              "        text-align: right;\n",
              "    }\n",
              "</style>\n",
              "<table border=\"1\" class=\"dataframe\">\n",
              "  <thead>\n",
              "    <tr style=\"text-align: right;\">\n",
              "      <th></th>\n",
              "      <th>Large B/P</th>\n",
              "      <th>Large ROE</th>\n",
              "      <th>Large S/P</th>\n",
              "      <th>Large Return Rate in the last quarter</th>\n",
              "      <th>Large Market Value</th>\n",
              "      <th>Small systematic Risk</th>\n",
              "      <th>Annual Return</th>\n",
              "      <th>Excess Return</th>\n",
              "      <th>Systematic Risk</th>\n",
              "      <th>Total Risk</th>\n",
              "      <th>Abs. Win Rate</th>\n",
              "      <th>Rel. Win Rate</th>\n",
              "    </tr>\n",
              "  </thead>\n",
              "  <tbody>\n",
              "    <tr>\n",
              "      <th>1</th>\n",
              "      <td>1</td>\n",
              "      <td>0</td>\n",
              "      <td>0</td>\n",
              "      <td>0</td>\n",
              "      <td>0</td>\n",
              "      <td>0</td>\n",
              "      <td>0.647161</td>\n",
              "      <td>0.688251</td>\n",
              "      <td>0.8</td>\n",
              "      <td>0.8</td>\n",
              "      <td>0.457143</td>\n",
              "      <td>0.65</td>\n",
              "    </tr>\n",
              "    <tr>\n",
              "      <th>2</th>\n",
              "      <td>0</td>\n",
              "      <td>1</td>\n",
              "      <td>0</td>\n",
              "      <td>0</td>\n",
              "      <td>0</td>\n",
              "      <td>0</td>\n",
              "      <td>0.492034</td>\n",
              "      <td>0.494779</td>\n",
              "      <td>0.488481</td>\n",
              "      <td>0.460754</td>\n",
              "      <td>0.285714</td>\n",
              "      <td>0.65</td>\n",
              "    </tr>\n",
              "    <tr>\n",
              "      <th>3</th>\n",
              "      <td>0</td>\n",
              "      <td>0</td>\n",
              "      <td>1</td>\n",
              "      <td>0</td>\n",
              "      <td>0</td>\n",
              "      <td>0</td>\n",
              "      <td>0.791489</td>\n",
              "      <td>0.8</td>\n",
              "      <td>0.579796</td>\n",
              "      <td>0.67053</td>\n",
              "      <td>0.457143</td>\n",
              "      <td>0.725</td>\n",
              "    </tr>\n",
              "    <tr>\n",
              "      <th>4</th>\n",
              "      <td>0</td>\n",
              "      <td>0</td>\n",
              "      <td>0</td>\n",
              "      <td>1</td>\n",
              "      <td>0</td>\n",
              "      <td>0</td>\n",
              "      <td>0.218169</td>\n",
              "      <td>0.263772</td>\n",
              "      <td>0.680969</td>\n",
              "      <td>0.764019</td>\n",
              "      <td>0.2</td>\n",
              "      <td>0.275</td>\n",
              "    </tr>\n",
              "    <tr>\n",
              "      <th>5</th>\n",
              "      <td>0</td>\n",
              "      <td>0</td>\n",
              "      <td>0</td>\n",
              "      <td>0</td>\n",
              "      <td>1</td>\n",
              "      <td>0</td>\n",
              "      <td>0.273698</td>\n",
              "      <td>0.262572</td>\n",
              "      <td>0.406379</td>\n",
              "      <td>0.333465</td>\n",
              "      <td>0.371429</td>\n",
              "      <td>0.575</td>\n",
              "    </tr>\n",
              "  </tbody>\n",
              "</table>\n",
              "</div>\n",
              "      <button class=\"colab-df-convert\" onclick=\"convertToInteractive('df-d004c08f-e754-4a20-8c21-3dac709ce7a4')\"\n",
              "              title=\"Convert this dataframe to an interactive table.\"\n",
              "              style=\"display:none;\">\n",
              "        \n",
              "  <svg xmlns=\"http://www.w3.org/2000/svg\" height=\"24px\"viewBox=\"0 0 24 24\"\n",
              "       width=\"24px\">\n",
              "    <path d=\"M0 0h24v24H0V0z\" fill=\"none\"/>\n",
              "    <path d=\"M18.56 5.44l.94 2.06.94-2.06 2.06-.94-2.06-.94-.94-2.06-.94 2.06-2.06.94zm-11 1L8.5 8.5l.94-2.06 2.06-.94-2.06-.94L8.5 2.5l-.94 2.06-2.06.94zm10 10l.94 2.06.94-2.06 2.06-.94-2.06-.94-.94-2.06-.94 2.06-2.06.94z\"/><path d=\"M17.41 7.96l-1.37-1.37c-.4-.4-.92-.59-1.43-.59-.52 0-1.04.2-1.43.59L10.3 9.45l-7.72 7.72c-.78.78-.78 2.05 0 2.83L4 21.41c.39.39.9.59 1.41.59.51 0 1.02-.2 1.41-.59l7.78-7.78 2.81-2.81c.8-.78.8-2.07 0-2.86zM5.41 20L4 18.59l7.72-7.72 1.47 1.35L5.41 20z\"/>\n",
              "  </svg>\n",
              "      </button>\n",
              "      \n",
              "  <style>\n",
              "    .colab-df-container {\n",
              "      display:flex;\n",
              "      flex-wrap:wrap;\n",
              "      gap: 12px;\n",
              "    }\n",
              "\n",
              "    .colab-df-convert {\n",
              "      background-color: #E8F0FE;\n",
              "      border: none;\n",
              "      border-radius: 50%;\n",
              "      cursor: pointer;\n",
              "      display: none;\n",
              "      fill: #1967D2;\n",
              "      height: 32px;\n",
              "      padding: 0 0 0 0;\n",
              "      width: 32px;\n",
              "    }\n",
              "\n",
              "    .colab-df-convert:hover {\n",
              "      background-color: #E2EBFA;\n",
              "      box-shadow: 0px 1px 2px rgba(60, 64, 67, 0.3), 0px 1px 3px 1px rgba(60, 64, 67, 0.15);\n",
              "      fill: #174EA6;\n",
              "    }\n",
              "\n",
              "    [theme=dark] .colab-df-convert {\n",
              "      background-color: #3B4455;\n",
              "      fill: #D2E3FC;\n",
              "    }\n",
              "\n",
              "    [theme=dark] .colab-df-convert:hover {\n",
              "      background-color: #434B5C;\n",
              "      box-shadow: 0px 1px 3px 1px rgba(0, 0, 0, 0.15);\n",
              "      filter: drop-shadow(0px 1px 2px rgba(0, 0, 0, 0.3));\n",
              "      fill: #FFFFFF;\n",
              "    }\n",
              "  </style>\n",
              "\n",
              "      <script>\n",
              "        const buttonEl =\n",
              "          document.querySelector('#df-d004c08f-e754-4a20-8c21-3dac709ce7a4 button.colab-df-convert');\n",
              "        buttonEl.style.display =\n",
              "          google.colab.kernel.accessAllowed ? 'block' : 'none';\n",
              "\n",
              "        async function convertToInteractive(key) {\n",
              "          const element = document.querySelector('#df-d004c08f-e754-4a20-8c21-3dac709ce7a4');\n",
              "          const dataTable =\n",
              "            await google.colab.kernel.invokeFunction('convertToInteractive',\n",
              "                                                     [key], {});\n",
              "          if (!dataTable) return;\n",
              "\n",
              "          const docLinkHtml = 'Like what you see? Visit the ' +\n",
              "            '<a target=\"_blank\" href=https://colab.research.google.com/notebooks/data_table.ipynb>data table notebook</a>'\n",
              "            + ' to learn more about interactive tables.';\n",
              "          element.innerHTML = '';\n",
              "          dataTable['output_type'] = 'display_data';\n",
              "          await google.colab.output.renderOutput(dataTable, element);\n",
              "          const docLink = document.createElement('div');\n",
              "          docLink.innerHTML = docLinkHtml;\n",
              "          element.appendChild(docLink);\n",
              "        }\n",
              "      </script>\n",
              "    </div>\n",
              "  </div>\n",
              "  "
            ],
            "text/plain": [
              "0  Large B/P   Large ROE   Large S/P   ... Total Risk Abs. Win Rate Rel. Win Rate\n",
              "1           1           0           0  ...        0.8      0.457143          0.65\n",
              "2           0           1           0  ...   0.460754      0.285714          0.65\n",
              "3           0           0           1  ...    0.67053      0.457143         0.725\n",
              "4           0           0           0  ...   0.764019           0.2         0.275\n",
              "5           0           0           0  ...   0.333465      0.371429         0.575\n",
              "\n",
              "[5 rows x 12 columns]"
            ]
          },
          "metadata": {},
          "execution_count": 19
        }
      ]
    },
    {
      "cell_type": "code",
      "metadata": {
        "colab": {
          "base_uri": "https://localhost:8080/"
        },
        "id": "GLmmlYXOh9lo",
        "outputId": "d5ab71f1-24d7-42a4-cbe4-97fc8da8fe6d"
      },
      "source": [
        "df.info()"
      ],
      "execution_count": 20,
      "outputs": [
        {
          "output_type": "stream",
          "name": "stdout",
          "text": [
            "<class 'pandas.core.frame.DataFrame'>\n",
            "RangeIndex: 63 entries, 1 to 63\n",
            "Data columns (total 12 columns):\n",
            " #   Column                                   Non-Null Count  Dtype \n",
            "---  ------                                   --------------  ----- \n",
            " 0    Large B/P                               63 non-null     object\n",
            " 1    Large ROE                               63 non-null     object\n",
            " 2    Large S/P                               63 non-null     object\n",
            " 3    Large Return Rate in the last quarter   63 non-null     object\n",
            " 4    Large Market Value                      63 non-null     object\n",
            " 5    Small systematic Risk                   63 non-null     object\n",
            " 6   Annual Return                            63 non-null     object\n",
            " 7   Excess Return                            63 non-null     object\n",
            " 8   Systematic Risk                          63 non-null     object\n",
            " 9   Total Risk                               63 non-null     object\n",
            " 10  Abs. Win Rate                            63 non-null     object\n",
            " 11  Rel. Win Rate                            63 non-null     object\n",
            "dtypes: object(12)\n",
            "memory usage: 6.0+ KB\n"
          ]
        }
      ]
    },
    {
      "cell_type": "code",
      "metadata": {
        "colab": {
          "base_uri": "https://localhost:8080/"
        },
        "id": "VuU1gjsViSjr",
        "outputId": "b3741463-985c-4d7d-c5ea-90e55627341e"
      },
      "source": [
        "pattern = df.shape[0]\n",
        "features = df.shape[1]-6\n",
        "print('number of features {}'.format(features))\n",
        "print('number of patterns {}'.format(pattern))"
      ],
      "execution_count": 21,
      "outputs": [
        {
          "output_type": "stream",
          "name": "stdout",
          "text": [
            "number of features 6\n",
            "number of patterns 63\n"
          ]
        }
      ]
    },
    {
      "cell_type": "code",
      "metadata": {
        "colab": {
          "base_uri": "https://localhost:8080/"
        },
        "id": "Dl064WaziXNW",
        "outputId": "1654f697-2e20-447e-dd04-613a68a96a32"
      },
      "source": [
        "for col in df.columns:\n",
        "    print(col)"
      ],
      "execution_count": 22,
      "outputs": [
        {
          "output_type": "stream",
          "name": "stdout",
          "text": [
            " Large B/P \n",
            " Large ROE \n",
            " Large S/P \n",
            " Large Return Rate in the last quarter \n",
            " Large Market Value \n",
            " Small systematic Risk\n",
            "Annual Return\n",
            "Excess Return\n",
            "Systematic Risk\n",
            "Total Risk\n",
            "Abs. Win Rate\n",
            "Rel. Win Rate\n"
          ]
        }
      ]
    },
    {
      "cell_type": "code",
      "source": [
        "plt.scatter(df[' Large B/P '], df['Annual Return'])"
      ],
      "metadata": {
        "colab": {
          "base_uri": "https://localhost:8080/",
          "height": 282
        },
        "id": "g05qcaV9-Jnp",
        "outputId": "700ae5c7-3001-4d55-e7a3-7f66d1b5fc95"
      },
      "execution_count": 23,
      "outputs": [
        {
          "output_type": "execute_result",
          "data": {
            "text/plain": [
              "<matplotlib.collections.PathCollection at 0x7f747dcfcd10>"
            ]
          },
          "metadata": {},
          "execution_count": 23
        },
        {
          "output_type": "display_data",
          "data": {
            "image/png": "[encoded data removed]",
            "text/plain": [
              "<Figure size 432x288 with 1 Axes>"
            ]
          },
          "metadata": {
            "needs_background": "light"
          }
        }
      ]
    },
    {
      "cell_type": "code",
      "source": [
        "plt.scatter(df[' Large B/P '], df['Excess Return'])"
      ],
      "metadata": {
        "colab": {
          "base_uri": "https://localhost:8080/",
          "height": 282
        },
        "id": "zDmbHU2U-Pap",
        "outputId": "bf738363-5044-4156-98ce-cdf030bee339"
      },
      "execution_count": 24,
      "outputs": [
        {
          "output_type": "execute_result",
          "data": {
            "text/plain": [
              "<matplotlib.collections.PathCollection at 0x7f747dc5b990>"
            ]
          },
          "metadata": {},
          "execution_count": 24
        },
        {
          "output_type": "display_data",
          "data": {
            "image/png": "[encoded data removed]",
            "text/plain": [
              "<Figure size 432x288 with 1 Axes>"
            ]
          },
          "metadata": {
            "needs_background": "light"
          }
        }
      ]
    },
    {
      "cell_type": "code",
      "source": [
        "plt.scatter(df[' Large ROE '], df['Annual Return'])"
      ],
      "metadata": {
        "colab": {
          "base_uri": "https://localhost:8080/",
          "height": 282
        },
        "id": "vHVAO2Uq-ivh",
        "outputId": "40152862-b192-449b-ebba-106eb1826834"
      },
      "execution_count": 25,
      "outputs": [
        {
          "output_type": "execute_result",
          "data": {
            "text/plain": [
              "<matplotlib.collections.PathCollection at 0x7f747dbae990>"
            ]
          },
          "metadata": {},
          "execution_count": 25
        },
        {
          "output_type": "display_data",
          "data": {
            "image/png": "[encoded data removed]",
            "text/plain": [
              "<Figure size 432x288 with 1 Axes>"
            ]
          },
          "metadata": {
            "needs_background": "light"
          }
        }
      ]
    },
    {
      "cell_type": "code",
      "metadata": {
        "id": "XXK4KoFHiaxz"
      },
      "source": [
        "X = df.iloc[:, 0:6]\n",
        "Y = df.iloc[:, 6:]"
      ],
      "execution_count": null,
      "outputs": []
    },
    {
      "cell_type": "code",
      "metadata": {
        "id": "713Qz6s4idlV"
      },
      "source": [
        "from sklearn.linear_model import LinearRegression"
      ],
      "execution_count": null,
      "outputs": []
    },
    {
      "cell_type": "code",
      "metadata": {
        "id": "KZ2imAUWih_P"
      },
      "source": [
        "model1 = LinearRegression().fit(X,Y.iloc[:,0])  #Annual Return\n",
        "model2 = LinearRegression().fit(X,Y.iloc[:,1])  #Excess Return\n",
        "model3 = LinearRegression().fit(X,Y.iloc[:,2])  #Systematic Risk\n",
        "model4 = LinearRegression().fit(X,Y.iloc[:,3])  #Total Risk\n",
        "model5 = LinearRegression().fit(X,Y.iloc[:,4])  #Abs. Win Rate\n",
        "model6 = LinearRegression().fit(X,Y.iloc[:,5])  #Rel. Win Rate"
      ],
      "execution_count": null,
      "outputs": []
    },
    {
      "cell_type": "code",
      "metadata": {
        "colab": {
          "base_uri": "https://localhost:8080/"
        },
        "id": "xhWXOcI8iyl_",
        "outputId": "2742db3b-285b-4bb9-ca3d-d14401ac0828"
      },
      "source": [
        "print(model1.score(X,Y.iloc[:,0]))\n",
        "print(model2.score(X,Y.iloc[:,1]))\n",
        "print(model3.score(X,Y.iloc[:,2]))\n",
        "print(model4.score(X,Y.iloc[:,3]))\n",
        "print(model5.score(X,Y.iloc[:,4]))\n",
        "print(model6.score(X,Y.iloc[:,5]))"
      ],
      "execution_count": null,
      "outputs": [
        {
          "output_type": "stream",
          "name": "stdout",
          "text": [
            "0.7357532024358292\n",
            "0.7818623825607572\n",
            "0.3918334102793113\n",
            "0.5739961988350175\n",
            "0.32999680517437235\n",
            "0.5683377362773634\n"
          ]
        }
      ]
    },
    {
      "cell_type": "markdown",
      "metadata": {
        "id": "vPOaWWnWO2Jh"
      },
      "source": [
        "--------------------X-------------------------X-------------------------"
      ]
    },
    {
      "cell_type": "markdown",
      "metadata": {
        "id": "9r6W6Rk9O8a2"
      },
      "source": [
        "# Annual return"
      ]
    },
    {
      "cell_type": "code",
      "metadata": {
        "colab": {
          "base_uri": "https://localhost:8080/",
          "height": 399
        },
        "id": "mAqWbNE3NOaG",
        "outputId": "ad12fb72-12df-49bb-8a43-375b4ba63433"
      },
      "source": [
        "from sklearn.model_selection import train_test_split\n",
        "from sklearn.metrics import mean_squared_error\n",
        "x_train,x_test,y_train,y_test = train_test_split(X,Y,test_size=0.3,random_state=3)\n",
        "m1 = LinearRegression().fit(x_train,y_train.iloc[:,0])\n",
        "y_p1 = m1.predict(x_test)\n",
        "print(y_p1)\n",
        "print(m1.score(x_train, y_train.iloc[:,0]))\n",
        "print(m1.score(x_test, y_test.iloc[:, 0]))\n",
        "print(\"mse :\",mean_squared_error(y_test.iloc[:, 0], y_p1))\n",
        "plt.scatter(y_p1, y_test.iloc[:, 0])"
      ],
      "execution_count": null,
      "outputs": [
        {
          "output_type": "stream",
          "name": "stdout",
          "text": [
            "[0.73481932 0.45134164 0.60194108 0.52091796 0.56753672 0.66392599\n",
            " 0.64173952 0.51850924 0.58655782 0.50242916 0.46332753 0.56683308\n",
            " 0.57420302 0.63414304 0.33444292 0.56433585 0.54978886 0.71849722\n",
            " 0.6482152 ]\n",
            "0.7275748824861061\n",
            "0.6882607901977171\n",
            "mse : 0.0054040030485757885\n"
          ]
        },
        {
          "output_type": "execute_result",
          "data": {
            "text/plain": [
              "<matplotlib.collections.PathCollection at 0x7f73d7fd1d10>"
            ]
          },
          "metadata": {},
          "execution_count": 57
        },
        {
          "output_type": "display_data",
          "data": {
            "image/png": "[encoded data removed]",
            "text/plain": [
              "<Figure size 432x288 with 1 Axes>"
            ]
          },
          "metadata": {
            "needs_background": "light"
          }
        }
      ]
    },
    {
      "cell_type": "markdown",
      "metadata": {
        "id": "FzzUd3drPFN9"
      },
      "source": [
        "#Excess Return"
      ]
    },
    {
      "cell_type": "code",
      "metadata": {
        "colab": {
          "base_uri": "https://localhost:8080/",
          "height": 399
        },
        "id": "U4h2-hThPIoo",
        "outputId": "b7326037-11f4-4005-bc7d-4ab6e31f955c"
      },
      "source": [
        "m2 = LinearRegression().fit(x_train,y_train.iloc[:,1])\n",
        "y_p2 = m2.predict(x_test)\n",
        "print(y_p2)\n",
        "print(m2.score(x_train, y_train.iloc[:,1]))\n",
        "print(m2.score(x_test, y_test.iloc[:, 1]))\n",
        "print(\"mse :\",mean_squared_error(y_test.iloc[:, 1], y_p2))\n",
        "plt.scatter(y_p2, y_test.iloc[:, 1])"
      ],
      "execution_count": null,
      "outputs": [
        {
          "output_type": "stream",
          "name": "stdout",
          "text": [
            "[0.72279087 0.44652085 0.60346469 0.52047838 0.57421458 0.67617536\n",
            " 0.64503939 0.54217499 0.56999056 0.46740341 0.46712616 0.56092103\n",
            " 0.58128551 0.6502235  0.30553356 0.58113614 0.56833983 0.73210718\n",
            " 0.64306593]\n",
            "0.7686687334922737\n",
            "0.7795659369817366\n",
            "mse : 0.003856585964903499\n"
          ]
        },
        {
          "output_type": "execute_result",
          "data": {
            "text/plain": [
              "<matplotlib.collections.PathCollection at 0x7f73d7fb4fd0>"
            ]
          },
          "metadata": {},
          "execution_count": 58
        },
        {
          "output_type": "display_data",
          "data": {
            "image/png": "[encoded data removed]",
            "text/plain": [
              "<Figure size 432x288 with 1 Axes>"
            ]
          },
          "metadata": {
            "needs_background": "light"
          }
        }
      ]
    },
    {
      "cell_type": "markdown",
      "metadata": {
        "id": "_onWJiGDRdM5"
      },
      "source": [
        "# Systamatic Risk"
      ]
    },
    {
      "cell_type": "code",
      "metadata": {
        "colab": {
          "base_uri": "https://localhost:8080/",
          "height": 399
        },
        "id": "hxwkuV52QDgq",
        "outputId": "ec525de9-e0e1-4803-d09b-7628d44fef2f"
      },
      "source": [
        "m3 = LinearRegression().fit(x_train,y_train.iloc[:,2])\n",
        "y_p3 = m3.predict(x_test)\n",
        "print(y_p3)\n",
        "print(m3.score(x_train, y_train.iloc[:,2]))\n",
        "print(m3.score(x_test, y_test.iloc[:, 2]))\n",
        "print(\"mse :\",mean_squared_error(y_test.iloc[:, 2], y_p3))\n",
        "plt.scatter(y_p3, y_test.iloc[:, 2])"
      ],
      "execution_count": null,
      "outputs": [
        {
          "output_type": "stream",
          "name": "stdout",
          "text": [
            "[0.37744453 0.3687317  0.43100425 0.41745347 0.46769359 0.51533671\n",
            " 0.47170465 0.57806166 0.32603267 0.17952075 0.43238968 0.41441675\n",
            " 0.48206039 0.54845225 0.21649297 0.52919145 0.53713974 0.55976476\n",
            " 0.41818231]\n",
            "0.45050345086521326\n",
            "-0.6137044557234455\n",
            "mse : 0.017643284929782642\n"
          ]
        },
        {
          "output_type": "execute_result",
          "data": {
            "text/plain": [
              "<matplotlib.collections.PathCollection at 0x7f73d7eaca10>"
            ]
          },
          "metadata": {},
          "execution_count": 59
        },
        {
          "output_type": "display_data",
          "data": {
            "image/png": "[encoded data removed]",
            "text/plain": [
              "<Figure size 432x288 with 1 Axes>"
            ]
          },
          "metadata": {
            "needs_background": "light"
          }
        }
      ]
    },
    {
      "cell_type": "markdown",
      "metadata": {
        "id": "3horB6CpSQGc"
      },
      "source": [
        "# Total Risk"
      ]
    },
    {
      "cell_type": "code",
      "metadata": {
        "colab": {
          "base_uri": "https://localhost:8080/",
          "height": 399
        },
        "id": "Wg8a2h9dSWAo",
        "outputId": "ac54ea6c-8705-4bd5-f9a2-07ab5dd9453e"
      },
      "source": [
        "m4 = LinearRegression().fit(x_train,y_train.iloc[:,3])\n",
        "y_p4 = m4.predict(x_test)\n",
        "print(y_p4)\n",
        "print(m4.score(x_train, y_train.iloc[:, 3]))\n",
        "print(m4.score(x_test, y_test.iloc[:, 3]))\n",
        "print(\"mse :\",mean_squared_error(y_test.iloc[:, 3], y_p4))\n",
        "plt.scatter(y_p4, y_test.iloc[:, 3])"
      ],
      "execution_count": null,
      "outputs": [
        {
          "output_type": "stream",
          "name": "stdout",
          "text": [
            "[0.41313992 0.38695525 0.50495854 0.44318149 0.52308454 0.60800296\n",
            " 0.51206629 0.64532966 0.3175592  0.14088133 0.45082257 0.39582789\n",
            " 0.53065931 0.63243182 0.1235693  0.62118582 0.61323507 0.65162856\n",
            " 0.45062125]\n",
            "0.5892587932110146\n",
            "0.16034375224911734\n",
            "mse : 0.013049473167342413\n"
          ]
        },
        {
          "output_type": "execute_result",
          "data": {
            "text/plain": [
              "<matplotlib.collections.PathCollection at 0x7f73d827b3d0>"
            ]
          },
          "metadata": {},
          "execution_count": 60
        },
        {
          "output_type": "display_data",
          "data": {
            "image/png": "[encoded data removed]",
            "text/plain": [
              "<Figure size 432x288 with 1 Axes>"
            ]
          },
          "metadata": {
            "needs_background": "light"
          }
        }
      ]
    },
    {
      "cell_type": "markdown",
      "metadata": {
        "id": "YF8BT_UlSnt6"
      },
      "source": [
        "# Abs. Win Rate"
      ]
    },
    {
      "cell_type": "code",
      "metadata": {
        "colab": {
          "base_uri": "https://localhost:8080/",
          "height": 399
        },
        "id": "nkrsWzXlSw14",
        "outputId": "48cb8446-51aa-4532-dafd-0405bbc20312"
      },
      "source": [
        "m5 = LinearRegression().fit(x_train,y_train.iloc[:,4])\n",
        "y_p5 = m5.predict(x_test)\n",
        "print(y_p5)\n",
        "print(m5.score(x_train, y_train.iloc[:, 4]))\n",
        "print(m5.score(x_test, y_test.iloc[:, 4]))\n",
        "print(\"mse :\",mean_squared_error(y_test.iloc[:, 4], y_p5))\n",
        "plt.scatter(y_p5, y_test.iloc[:, 4])"
      ],
      "execution_count": null,
      "outputs": [
        {
          "output_type": "stream",
          "name": "stdout",
          "text": [
            "[0.66151652 0.45425926 0.49851687 0.49630904 0.48773038 0.54756523\n",
            " 0.52788061 0.41479755 0.60169715 0.59457428 0.48861409 0.59756592\n",
            " 0.50613489 0.50001269 0.53062367 0.42916515 0.49172214 0.50830324\n",
            " 0.57405264]\n",
            "0.34511707906330324\n",
            "-0.0505502609396975\n",
            "mse : 0.015907025942115932\n"
          ]
        },
        {
          "output_type": "execute_result",
          "data": {
            "text/plain": [
              "<matplotlib.collections.PathCollection at 0x7f73d8172090>"
            ]
          },
          "metadata": {},
          "execution_count": 61
        },
        {
          "output_type": "display_data",
          "data": {
            "image/png": "[encoded data removed]",
            "text/plain": [
              "<Figure size 432x288 with 1 Axes>"
            ]
          },
          "metadata": {
            "needs_background": "light"
          }
        }
      ]
    },
    {
      "cell_type": "markdown",
      "metadata": {
        "id": "Tgvdl2QHTBPg"
      },
      "source": [
        "# Rel. Win Rate"
      ]
    },
    {
      "cell_type": "code",
      "metadata": {
        "colab": {
          "base_uri": "https://localhost:8080/",
          "height": 399
        },
        "id": "aqqU18grTgLl",
        "outputId": "413b7987-bd3f-404f-f06e-7cdb92a3a3a8"
      },
      "source": [
        "m6 = LinearRegression().fit(x_train,y_train.iloc[:,5])\n",
        "y_p6 = m6.predict(x_test)\n",
        "print(y_p6)\n",
        "print(m6.score(x_train, y_train.iloc[:, 5]))\n",
        "print(m6.score(x_test, y_test.iloc[:, 5]))\n",
        "print(\"mse :\",mean_squared_error(y_test.iloc[:, 5], y_p6))\n",
        "plt.scatter(y_p6, y_test.iloc[:, 5])"
      ],
      "execution_count": null,
      "outputs": [
        {
          "output_type": "stream",
          "name": "stdout",
          "text": [
            "[0.78542454 0.58503051 0.58949811 0.61141962 0.57142709 0.61529492\n",
            " 0.62173954 0.46395963 0.76712399 0.81263139 0.60934408 0.7441829\n",
            " 0.59849704 0.55527386 0.77138975 0.48803022 0.54851776 0.56202996\n",
            " 0.69325975]\n",
            "0.5748062811216503\n",
            "0.47209167525274687\n",
            "mse : 0.006679283305493291\n"
          ]
        },
        {
          "output_type": "execute_result",
          "data": {
            "text/plain": [
              "<matplotlib.collections.PathCollection at 0x7f73d7f6f510>"
            ]
          },
          "metadata": {},
          "execution_count": 62
        },
        {
          "output_type": "display_data",
          "data": {
            "image/png": "[encoded data removed]",
            "text/plain": [
              "<Figure size 432x288 with 1 Axes>"
            ]
          },
          "metadata": {
            "needs_background": "light"
          }
        }
      ]
    },
    {
      "cell_type": "markdown",
      "metadata": {
        "id": "_aMlLdstjIW1"
      },
      "source": [
        "--------------X------------X---------------"
      ]
    },
    {
      "cell_type": "code",
      "metadata": {
        "id": "3uxADpEAjL-_"
      },
      "source": [
        "from sklearn.model_selection import train_test_split\n",
        "x_train,x_test,y_train,y_test = train_test_split(X,Y,test_size=0.3,random_state=3)"
      ],
      "execution_count": null,
      "outputs": []
    },
    {
      "cell_type": "code",
      "metadata": {
        "colab": {
          "base_uri": "https://localhost:8080/"
        },
        "id": "G1_fObDujU5C",
        "outputId": "d0f93937-956d-47c6-b38d-0376e18fd9af"
      },
      "source": [
        "lr = LinearRegression()\n",
        "lr.fit(x_train, y_train)\n",
        "y_pred = lr.predict(x_test)\n",
        "print(\"predicted values are : \")\n",
        "print(y_pred)\n",
        "\n",
        "print(\"\\n test set values are :\")\n",
        "print(np.asarray(y_test)[:])"
      ],
      "execution_count": null,
      "outputs": [
        {
          "output_type": "stream",
          "name": "stdout",
          "text": [
            "predicted values are : \n",
            "[[0.73481932 0.72279087 0.37744453 0.41313992 0.66151652 0.78542454]\n",
            " [0.45134164 0.44652085 0.3687317  0.38695525 0.45425926 0.58503051]\n",
            " [0.60194108 0.60346469 0.43100425 0.50495854 0.49851687 0.58949811]\n",
            " [0.52091796 0.52047838 0.41745347 0.44318149 0.49630904 0.61141962]\n",
            " [0.56753672 0.57421458 0.46769359 0.52308454 0.48773038 0.57142709]\n",
            " [0.66392599 0.67617536 0.51533671 0.60800296 0.54756523 0.61529492]\n",
            " [0.64173952 0.64503939 0.47170465 0.51206629 0.52788061 0.62173954]\n",
            " [0.51850924 0.54217499 0.57806166 0.64532966 0.41479755 0.46395963]\n",
            " [0.58655782 0.56999056 0.32603267 0.3175592  0.60169715 0.76712399]\n",
            " [0.50242916 0.46740341 0.17952075 0.14088133 0.59457428 0.81263139]\n",
            " [0.46332753 0.46712616 0.43238968 0.45082257 0.48861409 0.60934408]\n",
            " [0.56683308 0.56092103 0.41441675 0.39582789 0.59756592 0.7441829 ]\n",
            " [0.57420302 0.58128551 0.48206039 0.53065931 0.50613489 0.59849704]\n",
            " [0.63414304 0.6502235  0.54845225 0.63243182 0.50001269 0.55527386]\n",
            " [0.33444292 0.30553356 0.21649297 0.1235693  0.53062367 0.77138975]\n",
            " [0.56433585 0.58113614 0.52919145 0.62118582 0.42916515 0.48803022]\n",
            " [0.54978886 0.56833983 0.53713974 0.61323507 0.49172214 0.54851776]\n",
            " [0.71849722 0.73210718 0.55976476 0.65162856 0.50830324 0.56202996]\n",
            " [0.6482152  0.64306593 0.41818231 0.45062125 0.57405264 0.69325975]]\n",
            "\n",
            " test set values are :\n",
            "[[0.7949826944163363 0.7619931010445204 0.2332489634999982\n",
            "  0.3181021920632392 0.7142857142857144 0.7249999999999999]\n",
            " [0.4285048322719283 0.41949155737321403 0.326461892785946\n",
            "  0.33076060342727087 0.2857142857142858 0.575]\n",
            " [0.6852811075297494 0.6818841442537507 0.3890124762538785\n",
            "  0.48559277900815484 0.6285714285714286 0.6500000000000001]\n",
            " [0.5949172724783864 0.5761730360318277 0.23857378657126044\n",
            "  0.2823450171083174 0.7142857142857144 0.7249999999999999]\n",
            " [0.6803740002345079 0.6599283867261911 0.21951324218467197\n",
            "  0.33036685702845725 0.5428571428571427 0.7249999999999999]\n",
            " [0.7078872044845801 0.7077354439547989 0.4372271184636829\n",
            "  0.5223347436598758 0.6285714285714286 0.49999999999999994]\n",
            " [0.7595405275633962 0.7326969266589429 0.22676286411556756\n",
            "  0.3448349947372646 0.7142857142857144 0.6500000000000001]\n",
            " [0.5252079433337624 0.5282714981762116 0.35530373092344525\n",
            "  0.44797195427038505 0.5428571428571427 0.42500000000000004]\n",
            " [0.592999339924922 0.5713185234829189 0.20295107553779768\n",
            "  0.24319105533265298 0.7142857142857144 0.7249999999999999]\n",
            " [0.38307083306316025 0.3622264019069168 0.24564776405731412 0.2\n",
            "  0.3714285714285714 0.8]\n",
            " [0.5102838360163464 0.5000647439002324 0.3369946314780787\n",
            "  0.3246439593199398 0.4571428571428572 0.6500000000000001]\n",
            " [0.5684356148438111 0.5733877075548326 0.4974866354553649\n",
            "  0.48182091680657974 0.5428571428571427 0.7249999999999999]\n",
            " [0.6865353997833581 0.6874462671121802 0.44016659387882895\n",
            "  0.5107917600128739 0.6285714285714286 0.575]\n",
            " [0.6891129976617067 0.6995452239545259 0.4613902999089394\n",
            "  0.5933711215776576 0.5428571428571427 0.42500000000000004]\n",
            " [0.27369840984654464 0.2625719953987181 0.406379224392682\n",
            "  0.33346546822165635 0.3714285714285714 0.575]\n",
            " [0.6296169969361016 0.6454758806993273 0.4831524137570902\n",
            "  0.5928692614664304 0.5428571428571427 0.49999999999999994]\n",
            " [0.6052685774578304 0.6079321695370308 0.405901475793917\n",
            "  0.47565850814831007 0.6285714285714286 0.49999999999999994]\n",
            " [0.6616763448386038 0.6831060488005657 0.554108676904187\n",
            "  0.6570610561552733 0.4571428571428572 0.49999999999999994]\n",
            " [0.7537277444252053 0.7409186281088698 0.3823983309332547\n",
            "  0.4564584526899647 0.6285714285714286 0.7249999999999999]]\n"
          ]
        }
      ]
    },
    {
      "cell_type": "code",
      "metadata": {
        "colab": {
          "base_uri": "https://localhost:8080/"
        },
        "id": "Mj4kCzNojXYv",
        "outputId": "10ca0d0e-3377-4051-8b15-773dd1d77398"
      },
      "source": [
        "print(\"Training Accuracy:\",lr.score(x_train,y_train))"
      ],
      "execution_count": null,
      "outputs": [
        {
          "output_type": "stream",
          "name": "stdout",
          "text": [
            "Training Accuracy: 0.5737184978098757\n"
          ]
        },
        {
          "output_type": "stream",
          "name": "stderr",
          "text": [
            "/usr/local/lib/python3.7/dist-packages/sklearn/base.py:434: FutureWarning: The default value of multioutput (not exposed in score method) will change from 'variance_weighted' to 'uniform_average' in 0.23 to keep consistent with 'metrics.r2_score'. To specify the default value manually and avoid the warning, please either call 'metrics.r2_score' directly or make a custom scorer with 'metrics.make_scorer' (the built-in scorer 'r2' uses multioutput='uniform_average').\n",
            "  \"multioutput='uniform_average').\", FutureWarning)\n"
          ]
        }
      ]
    },
    {
      "cell_type": "code",
      "metadata": {
        "colab": {
          "base_uri": "https://localhost:8080/"
        },
        "id": "-5kp6dM8jgnd",
        "outputId": "297d05a7-09a3-42b0-b945-369fc993fdfb"
      },
      "source": [
        "print(\"validation Accuracy:\",lr.score(x_test,y_test))"
      ],
      "execution_count": null,
      "outputs": [
        {
          "output_type": "stream",
          "name": "stdout",
          "text": [
            "validation Accuracy: 0.2980899823467963\n"
          ]
        },
        {
          "output_type": "stream",
          "name": "stderr",
          "text": [
            "/usr/local/lib/python3.7/dist-packages/sklearn/base.py:434: FutureWarning: The default value of multioutput (not exposed in score method) will change from 'variance_weighted' to 'uniform_average' in 0.23 to keep consistent with 'metrics.r2_score'. To specify the default value manually and avoid the warning, please either call 'metrics.r2_score' directly or make a custom scorer with 'metrics.make_scorer' (the built-in scorer 'r2' uses multioutput='uniform_average').\n",
            "  \"multioutput='uniform_average').\", FutureWarning)\n"
          ]
        }
      ]
    },
    {
      "cell_type": "code",
      "metadata": {
        "colab": {
          "base_uri": "https://localhost:8080/"
        },
        "id": "KoWwCVdQi7xo",
        "outputId": "e811478a-0484-4f78-eb5a-fbfee9140ec5"
      },
      "source": [
        "from sklearn.metrics import mean_squared_error\n",
        "print(\"MSE:- \",mean_squared_error(y_test, y_pred))"
      ],
      "execution_count": null,
      "outputs": [
        {
          "output_type": "stream",
          "name": "stdout",
          "text": [
            "MSE:-  0.010423276059702313\n"
          ]
        }
      ]
    },
    {
      "cell_type": "code",
      "metadata": {
        "colab": {
          "base_uri": "https://localhost:8080/",
          "height": 282
        },
        "id": "ptNz72VZjm91",
        "outputId": "a0c25603-4e1d-4add-8b7e-cfad3200e186"
      },
      "source": [
        "plt.scatter(y_test, y_pred)"
      ],
      "execution_count": null,
      "outputs": [
        {
          "output_type": "execute_result",
          "data": {
            "text/plain": [
              "<matplotlib.collections.PathCollection at 0x7f73d80cc850>"
            ]
          },
          "metadata": {},
          "execution_count": 48
        },
        {
          "output_type": "display_data",
          "data": {
            "image/png": "[encoded data removed]",
            "text/plain": [
              "<Figure size 432x288 with 1 Axes>"
            ]
          },
          "metadata": {
            "needs_background": "light"
          }
        }
      ]
    },
    {
      "cell_type": "markdown",
      "metadata": {
        "id": "nsNiiVQ0jrV7"
      },
      "source": [
        "------------------X---------------X-----------------"
      ]
    },
    {
      "cell_type": "markdown",
      "metadata": {
        "id": "gwafC3HqRH-H"
      },
      "source": [
        "# Using SGD(Hyperparameter tuning)"
      ]
    },
    {
      "cell_type": "code",
      "metadata": {
        "colab": {
          "base_uri": "https://localhost:8080/",
          "height": 282
        },
        "id": "16l5DW0uRLht",
        "outputId": "4559862b-cdf3-49d6-eaac-fa05f8183446"
      },
      "source": [
        "df1 = pd.read_excel('/content/drive/MyDrive/Colab Notebooks/ml_mini_project/stock portfolio performance data set (1).xlsx', sheet_name='2nd period')\n",
        "df1.head()"
      ],
      "execution_count": 2,
      "outputs": [
        {
          "output_type": "execute_result",
          "data": {
            "text/html": [
              "\n",
              "  <div id=\"df-f94b8d4d-19f0-4ca3-bd02-91ef577e1987\">\n",
              "    <div class=\"colab-df-container\">\n",
              "      <div>\n",
              "<style scoped>\n",
              "    .dataframe tbody tr th:only-of-type {\n",
              "        vertical-align: middle;\n",
              "    }\n",
              "\n",
              "    .dataframe tbody tr th {\n",
              "        vertical-align: top;\n",
              "    }\n",
              "\n",
              "    .dataframe thead th {\n",
              "        text-align: right;\n",
              "    }\n",
              "</style>\n",
              "<table border=\"1\" class=\"dataframe\">\n",
              "  <thead>\n",
              "    <tr style=\"text-align: right;\">\n",
              "      <th></th>\n",
              "      <th>Unnamed: 0</th>\n",
              "      <th>the weight of the stock-picking concept</th>\n",
              "      <th>Unnamed: 2</th>\n",
              "      <th>Unnamed: 3</th>\n",
              "      <th>Unnamed: 4</th>\n",
              "      <th>Unnamed: 5</th>\n",
              "      <th>Unnamed: 6</th>\n",
              "      <th>the normalized  investment performance indicator</th>\n",
              "      <th>Unnamed: 8</th>\n",
              "      <th>Unnamed: 9</th>\n",
              "      <th>Unnamed: 10</th>\n",
              "      <th>Unnamed: 11</th>\n",
              "      <th>Unnamed: 12</th>\n",
              "    </tr>\n",
              "  </thead>\n",
              "  <tbody>\n",
              "    <tr>\n",
              "      <th>0</th>\n",
              "      <td>ID</td>\n",
              "      <td>Large B/P</td>\n",
              "      <td>Large ROE</td>\n",
              "      <td>Large S/P</td>\n",
              "      <td>Large Return Rate in the last quarter</td>\n",
              "      <td>Large Market Value</td>\n",
              "      <td>Small systematic Risk</td>\n",
              "      <td>Annual Return</td>\n",
              "      <td>Excess Return</td>\n",
              "      <td>Systematic Risk</td>\n",
              "      <td>Total Risk</td>\n",
              "      <td>Abs. Win Rate</td>\n",
              "      <td>Rel. Win Rate</td>\n",
              "    </tr>\n",
              "    <tr>\n",
              "      <th>1</th>\n",
              "      <td>1</td>\n",
              "      <td>1</td>\n",
              "      <td>0</td>\n",
              "      <td>0</td>\n",
              "      <td>0</td>\n",
              "      <td>0</td>\n",
              "      <td>0</td>\n",
              "      <td>0.227755</td>\n",
              "      <td>0.50754</td>\n",
              "      <td>0.244336</td>\n",
              "      <td>0.316609</td>\n",
              "      <td>0.371429</td>\n",
              "      <td>0.4</td>\n",
              "    </tr>\n",
              "    <tr>\n",
              "      <th>2</th>\n",
              "      <td>2</td>\n",
              "      <td>0</td>\n",
              "      <td>1</td>\n",
              "      <td>0</td>\n",
              "      <td>0</td>\n",
              "      <td>0</td>\n",
              "      <td>0</td>\n",
              "      <td>0.589132</td>\n",
              "      <td>0.481622</td>\n",
              "      <td>0.587008</td>\n",
              "      <td>0.367016</td>\n",
              "      <td>0.542857</td>\n",
              "      <td>0.6</td>\n",
              "    </tr>\n",
              "    <tr>\n",
              "      <th>3</th>\n",
              "      <td>3</td>\n",
              "      <td>0</td>\n",
              "      <td>0</td>\n",
              "      <td>1</td>\n",
              "      <td>0</td>\n",
              "      <td>0</td>\n",
              "      <td>0</td>\n",
              "      <td>0.310197</td>\n",
              "      <td>0.325059</td>\n",
              "      <td>0.491529</td>\n",
              "      <td>0.42591</td>\n",
              "      <td>0.285714</td>\n",
              "      <td>0.4</td>\n",
              "    </tr>\n",
              "    <tr>\n",
              "      <th>4</th>\n",
              "      <td>4</td>\n",
              "      <td>0</td>\n",
              "      <td>0</td>\n",
              "      <td>0</td>\n",
              "      <td>1</td>\n",
              "      <td>0</td>\n",
              "      <td>0</td>\n",
              "      <td>0.732604</td>\n",
              "      <td>0.490854</td>\n",
              "      <td>0.8</td>\n",
              "      <td>0.8</td>\n",
              "      <td>0.542857</td>\n",
              "      <td>0.6</td>\n",
              "    </tr>\n",
              "  </tbody>\n",
              "</table>\n",
              "</div>\n",
              "      <button class=\"colab-df-convert\" onclick=\"convertToInteractive('df-f94b8d4d-19f0-4ca3-bd02-91ef577e1987')\"\n",
              "              title=\"Convert this dataframe to an interactive table.\"\n",
              "              style=\"display:none;\">\n",
              "        \n",
              "  <svg xmlns=\"http://www.w3.org/2000/svg\" height=\"24px\"viewBox=\"0 0 24 24\"\n",
              "       width=\"24px\">\n",
              "    <path d=\"M0 0h24v24H0V0z\" fill=\"none\"/>\n",
              "    <path d=\"M18.56 5.44l.94 2.06.94-2.06 2.06-.94-2.06-.94-.94-2.06-.94 2.06-2.06.94zm-11 1L8.5 8.5l.94-2.06 2.06-.94-2.06-.94L8.5 2.5l-.94 2.06-2.06.94zm10 10l.94 2.06.94-2.06 2.06-.94-2.06-.94-.94-2.06-.94 2.06-2.06.94z\"/><path d=\"M17.41 7.96l-1.37-1.37c-.4-.4-.92-.59-1.43-.59-.52 0-1.04.2-1.43.59L10.3 9.45l-7.72 7.72c-.78.78-.78 2.05 0 2.83L4 21.41c.39.39.9.59 1.41.59.51 0 1.02-.2 1.41-.59l7.78-7.78 2.81-2.81c.8-.78.8-2.07 0-2.86zM5.41 20L4 18.59l7.72-7.72 1.47 1.35L5.41 20z\"/>\n",
              "  </svg>\n",
              "      </button>\n",
              "      \n",
              "  <style>\n",
              "    .colab-df-container {\n",
              "      display:flex;\n",
              "      flex-wrap:wrap;\n",
              "      gap: 12px;\n",
              "    }\n",
              "\n",
              "    .colab-df-convert {\n",
              "      background-color: #E8F0FE;\n",
              "      border: none;\n",
              "      border-radius: 50%;\n",
              "      cursor: pointer;\n",
              "      display: none;\n",
              "      fill: #1967D2;\n",
              "      height: 32px;\n",
              "      padding: 0 0 0 0;\n",
              "      width: 32px;\n",
              "    }\n",
              "\n",
              "    .colab-df-convert:hover {\n",
              "      background-color: #E2EBFA;\n",
              "      box-shadow: 0px 1px 2px rgba(60, 64, 67, 0.3), 0px 1px 3px 1px rgba(60, 64, 67, 0.15);\n",
              "      fill: #174EA6;\n",
              "    }\n",
              "\n",
              "    [theme=dark] .colab-df-convert {\n",
              "      background-color: #3B4455;\n",
              "      fill: #D2E3FC;\n",
              "    }\n",
              "\n",
              "    [theme=dark] .colab-df-convert:hover {\n",
              "      background-color: #434B5C;\n",
              "      box-shadow: 0px 1px 3px 1px rgba(0, 0, 0, 0.15);\n",
              "      filter: drop-shadow(0px 1px 2px rgba(0, 0, 0, 0.3));\n",
              "      fill: #FFFFFF;\n",
              "    }\n",
              "  </style>\n",
              "\n",
              "      <script>\n",
              "        const buttonEl =\n",
              "          document.querySelector('#df-f94b8d4d-19f0-4ca3-bd02-91ef577e1987 button.colab-df-convert');\n",
              "        buttonEl.style.display =\n",
              "          google.colab.kernel.accessAllowed ? 'block' : 'none';\n",
              "\n",
              "        async function convertToInteractive(key) {\n",
              "          const element = document.querySelector('#df-f94b8d4d-19f0-4ca3-bd02-91ef577e1987');\n",
              "          const dataTable =\n",
              "            await google.colab.kernel.invokeFunction('convertToInteractive',\n",
              "                                                     [key], {});\n",
              "          if (!dataTable) return;\n",
              "\n",
              "          const docLinkHtml = 'Like what you see? Visit the ' +\n",
              "            '<a target=\"_blank\" href=https://colab.research.google.com/notebooks/data_table.ipynb>data table notebook</a>'\n",
              "            + ' to learn more about interactive tables.';\n",
              "          element.innerHTML = '';\n",
              "          dataTable['output_type'] = 'display_data';\n",
              "          await google.colab.output.renderOutput(dataTable, element);\n",
              "          const docLink = document.createElement('div');\n",
              "          docLink.innerHTML = docLinkHtml;\n",
              "          element.appendChild(docLink);\n",
              "        }\n",
              "      </script>\n",
              "    </div>\n",
              "  </div>\n",
              "  "
            ],
            "text/plain": [
              "  Unnamed: 0  ...    Unnamed: 12\n",
              "0         ID  ...  Rel. Win Rate\n",
              "1          1  ...            0.4\n",
              "2          2  ...            0.6\n",
              "3          3  ...            0.4\n",
              "4          4  ...            0.6\n",
              "\n",
              "[5 rows x 13 columns]"
            ]
          },
          "metadata": {},
          "execution_count": 2
        }
      ]
    },
    {
      "cell_type": "code",
      "metadata": {
        "id": "dau72n77S_Lz"
      },
      "source": [
        "new_header = df1.iloc[0] #grab the first row for the header\n",
        "df1 = df1[1:] #take the data less the header row\n",
        "df1.columns = new_header #set the header row as the df header"
      ],
      "execution_count": 3,
      "outputs": []
    },
    {
      "cell_type": "code",
      "metadata": {
        "id": "RFhPiDZSTG2S"
      },
      "source": [
        "df1 = df1.drop('ID', axis=1)"
      ],
      "execution_count": 4,
      "outputs": []
    },
    {
      "cell_type": "code",
      "metadata": {
        "colab": {
          "base_uri": "https://localhost:8080/",
          "height": 267
        },
        "id": "rtyoxTnAT6Vl",
        "outputId": "deb4dd0e-13e1-4915-bb2b-e71dc14f50fc"
      },
      "source": [
        "df1.head()"
      ],
      "execution_count": 5,
      "outputs": [
        {
          "output_type": "execute_result",
          "data": {
            "text/html": [
              "\n",
              "  <div id=\"df-d262c0e2-95d7-4320-a729-6ab3dc1427d8\">\n",
              "    <div class=\"colab-df-container\">\n",
              "      <div>\n",
              "<style scoped>\n",
              "    .dataframe tbody tr th:only-of-type {\n",
              "        vertical-align: middle;\n",
              "    }\n",
              "\n",
              "    .dataframe tbody tr th {\n",
              "        vertical-align: top;\n",
              "    }\n",
              "\n",
              "    .dataframe thead th {\n",
              "        text-align: right;\n",
              "    }\n",
              "</style>\n",
              "<table border=\"1\" class=\"dataframe\">\n",
              "  <thead>\n",
              "    <tr style=\"text-align: right;\">\n",
              "      <th></th>\n",
              "      <th>Large B/P</th>\n",
              "      <th>Large ROE</th>\n",
              "      <th>Large S/P</th>\n",
              "      <th>Large Return Rate in the last quarter</th>\n",
              "      <th>Large Market Value</th>\n",
              "      <th>Small systematic Risk</th>\n",
              "      <th>Annual Return</th>\n",
              "      <th>Excess Return</th>\n",
              "      <th>Systematic Risk</th>\n",
              "      <th>Total Risk</th>\n",
              "      <th>Abs. Win Rate</th>\n",
              "      <th>Rel. Win Rate</th>\n",
              "    </tr>\n",
              "  </thead>\n",
              "  <tbody>\n",
              "    <tr>\n",
              "      <th>1</th>\n",
              "      <td>1</td>\n",
              "      <td>0</td>\n",
              "      <td>0</td>\n",
              "      <td>0</td>\n",
              "      <td>0</td>\n",
              "      <td>0</td>\n",
              "      <td>0.227755</td>\n",
              "      <td>0.50754</td>\n",
              "      <td>0.244336</td>\n",
              "      <td>0.316609</td>\n",
              "      <td>0.371429</td>\n",
              "      <td>0.4</td>\n",
              "    </tr>\n",
              "    <tr>\n",
              "      <th>2</th>\n",
              "      <td>0</td>\n",
              "      <td>1</td>\n",
              "      <td>0</td>\n",
              "      <td>0</td>\n",
              "      <td>0</td>\n",
              "      <td>0</td>\n",
              "      <td>0.589132</td>\n",
              "      <td>0.481622</td>\n",
              "      <td>0.587008</td>\n",
              "      <td>0.367016</td>\n",
              "      <td>0.542857</td>\n",
              "      <td>0.6</td>\n",
              "    </tr>\n",
              "    <tr>\n",
              "      <th>3</th>\n",
              "      <td>0</td>\n",
              "      <td>0</td>\n",
              "      <td>1</td>\n",
              "      <td>0</td>\n",
              "      <td>0</td>\n",
              "      <td>0</td>\n",
              "      <td>0.310197</td>\n",
              "      <td>0.325059</td>\n",
              "      <td>0.491529</td>\n",
              "      <td>0.42591</td>\n",
              "      <td>0.285714</td>\n",
              "      <td>0.4</td>\n",
              "    </tr>\n",
              "    <tr>\n",
              "      <th>4</th>\n",
              "      <td>0</td>\n",
              "      <td>0</td>\n",
              "      <td>0</td>\n",
              "      <td>1</td>\n",
              "      <td>0</td>\n",
              "      <td>0</td>\n",
              "      <td>0.732604</td>\n",
              "      <td>0.490854</td>\n",
              "      <td>0.8</td>\n",
              "      <td>0.8</td>\n",
              "      <td>0.542857</td>\n",
              "      <td>0.6</td>\n",
              "    </tr>\n",
              "    <tr>\n",
              "      <th>5</th>\n",
              "      <td>0</td>\n",
              "      <td>0</td>\n",
              "      <td>0</td>\n",
              "      <td>0</td>\n",
              "      <td>1</td>\n",
              "      <td>0</td>\n",
              "      <td>0.632961</td>\n",
              "      <td>0.634952</td>\n",
              "      <td>0.46601</td>\n",
              "      <td>0.2</td>\n",
              "      <td>0.8</td>\n",
              "      <td>0.3</td>\n",
              "    </tr>\n",
              "  </tbody>\n",
              "</table>\n",
              "</div>\n",
              "      <button class=\"colab-df-convert\" onclick=\"convertToInteractive('df-d262c0e2-95d7-4320-a729-6ab3dc1427d8')\"\n",
              "              title=\"Convert this dataframe to an interactive table.\"\n",
              "              style=\"display:none;\">\n",
              "        \n",
              "  <svg xmlns=\"http://www.w3.org/2000/svg\" height=\"24px\"viewBox=\"0 0 24 24\"\n",
              "       width=\"24px\">\n",
              "    <path d=\"M0 0h24v24H0V0z\" fill=\"none\"/>\n",
              "    <path d=\"M18.56 5.44l.94 2.06.94-2.06 2.06-.94-2.06-.94-.94-2.06-.94 2.06-2.06.94zm-11 1L8.5 8.5l.94-2.06 2.06-.94-2.06-.94L8.5 2.5l-.94 2.06-2.06.94zm10 10l.94 2.06.94-2.06 2.06-.94-2.06-.94-.94-2.06-.94 2.06-2.06.94z\"/><path d=\"M17.41 7.96l-1.37-1.37c-.4-.4-.92-.59-1.43-.59-.52 0-1.04.2-1.43.59L10.3 9.45l-7.72 7.72c-.78.78-.78 2.05 0 2.83L4 21.41c.39.39.9.59 1.41.59.51 0 1.02-.2 1.41-.59l7.78-7.78 2.81-2.81c.8-.78.8-2.07 0-2.86zM5.41 20L4 18.59l7.72-7.72 1.47 1.35L5.41 20z\"/>\n",
              "  </svg>\n",
              "      </button>\n",
              "      \n",
              "  <style>\n",
              "    .colab-df-container {\n",
              "      display:flex;\n",
              "      flex-wrap:wrap;\n",
              "      gap: 12px;\n",
              "    }\n",
              "\n",
              "    .colab-df-convert {\n",
              "      background-color: #E8F0FE;\n",
              "      border: none;\n",
              "      border-radius: 50%;\n",
              "      cursor: pointer;\n",
              "      display: none;\n",
              "      fill: #1967D2;\n",
              "      height: 32px;\n",
              "      padding: 0 0 0 0;\n",
              "      width: 32px;\n",
              "    }\n",
              "\n",
              "    .colab-df-convert:hover {\n",
              "      background-color: #E2EBFA;\n",
              "      box-shadow: 0px 1px 2px rgba(60, 64, 67, 0.3), 0px 1px 3px 1px rgba(60, 64, 67, 0.15);\n",
              "      fill: #174EA6;\n",
              "    }\n",
              "\n",
              "    [theme=dark] .colab-df-convert {\n",
              "      background-color: #3B4455;\n",
              "      fill: #D2E3FC;\n",
              "    }\n",
              "\n",
              "    [theme=dark] .colab-df-convert:hover {\n",
              "      background-color: #434B5C;\n",
              "      box-shadow: 0px 1px 3px 1px rgba(0, 0, 0, 0.15);\n",
              "      filter: drop-shadow(0px 1px 2px rgba(0, 0, 0, 0.3));\n",
              "      fill: #FFFFFF;\n",
              "    }\n",
              "  </style>\n",
              "\n",
              "      <script>\n",
              "        const buttonEl =\n",
              "          document.querySelector('#df-d262c0e2-95d7-4320-a729-6ab3dc1427d8 button.colab-df-convert');\n",
              "        buttonEl.style.display =\n",
              "          google.colab.kernel.accessAllowed ? 'block' : 'none';\n",
              "\n",
              "        async function convertToInteractive(key) {\n",
              "          const element = document.querySelector('#df-d262c0e2-95d7-4320-a729-6ab3dc1427d8');\n",
              "          const dataTable =\n",
              "            await google.colab.kernel.invokeFunction('convertToInteractive',\n",
              "                                                     [key], {});\n",
              "          if (!dataTable) return;\n",
              "\n",
              "          const docLinkHtml = 'Like what you see? Visit the ' +\n",
              "            '<a target=\"_blank\" href=https://colab.research.google.com/notebooks/data_table.ipynb>data table notebook</a>'\n",
              "            + ' to learn more about interactive tables.';\n",
              "          element.innerHTML = '';\n",
              "          dataTable['output_type'] = 'display_data';\n",
              "          await google.colab.output.renderOutput(dataTable, element);\n",
              "          const docLink = document.createElement('div');\n",
              "          docLink.innerHTML = docLinkHtml;\n",
              "          element.appendChild(docLink);\n",
              "        }\n",
              "      </script>\n",
              "    </div>\n",
              "  </div>\n",
              "  "
            ],
            "text/plain": [
              "0  Large B/P   Large ROE   Large S/P   ... Total Risk Abs. Win Rate Rel. Win Rate\n",
              "1           1           0           0  ...   0.316609      0.371429           0.4\n",
              "2           0           1           0  ...   0.367016      0.542857           0.6\n",
              "3           0           0           1  ...    0.42591      0.285714           0.4\n",
              "4           0           0           0  ...        0.8      0.542857           0.6\n",
              "5           0           0           0  ...        0.2           0.8           0.3\n",
              "\n",
              "[5 rows x 12 columns]"
            ]
          },
          "metadata": {},
          "execution_count": 5
        }
      ]
    },
    {
      "cell_type": "code",
      "metadata": {
        "id": "YksM6cBXUSIM"
      },
      "source": [
        "from sklearn.model_selection import train_test_split\n",
        "from sklearn.metrics import mean_squared_error\n",
        "from sklearn import linear_model\n",
        "from sklearn.linear_model import LinearRegression"
      ],
      "execution_count": 6,
      "outputs": []
    },
    {
      "cell_type": "markdown",
      "metadata": {
        "id": "HMuzT4F2Zdnk"
      },
      "source": [
        "# ANNUAL RETURN"
      ]
    },
    {
      "cell_type": "code",
      "metadata": {
        "colab": {
          "base_uri": "https://localhost:8080/"
        },
        "id": "6GFfiwmTUYk7",
        "outputId": "c5fd525a-1f0c-4f28-a475-27837770fb7f"
      },
      "source": [
        "x = df1.iloc[:, 0:6]\n",
        "y1 = df1.iloc[:, 6]\n",
        "\n",
        "x_train,x_r,y_train,y_r = train_test_split(x,y1,train_size=0.6,random_state=3)\n",
        "x_valid, x_test, y_valid, y_test = train_test_split(x_r,y_r,test_size=0.5,random_state=3)\n",
        "#lr = 0.1 #learning rate #mse: 0.013758178600912298\n",
        "#rho = 0.5 #stopping criteria\n",
        "#itr = 500 #epoch\n",
        "lr = 0.01 #mse :  0.004625348510260119\n",
        "rho = 0.00001\n",
        "itr = 500\n",
        "print(\"results of linear reg: \")\n",
        "SGDReg_1 = linear_model.SGDRegressor(max_iter = itr, learning_rate = 'constant', eta0 = lr, tol = rho)\n",
        "SGDReg_1.fit(x_train, y_train)\n",
        "mse1 = mean_squared_error(y_valid, SGDReg_1.predict(x_valid))\n",
        "print(\"mse : \", mse1)\n"
      ],
      "execution_count": 7,
      "outputs": [
        {
          "output_type": "stream",
          "name": "stdout",
          "text": [
            "results of linear reg: \n",
            "mse :  0.004597122054510231\n"
          ]
        }
      ]
    },
    {
      "cell_type": "code",
      "metadata": {
        "colab": {
          "base_uri": "https://localhost:8080/"
        },
        "id": "ZQpCe38Ca5jg",
        "outputId": "af391a53-c80f-4b5d-c264-e9dbf19ad0b1"
      },
      "source": [
        "lr = 0.01\n",
        "rho = 0.00001\n",
        "itr = 500\n",
        "print(\"results of linear reg for test set: \")\n",
        "SGDReg_1 = linear_model.SGDRegressor(max_iter = itr, learning_rate = 'constant', eta0 = lr, tol = rho)\n",
        "SGDReg_1.fit(x_train, y_train)\n",
        "mse1 = mean_squared_error(y_test, SGDReg_1.predict(x_test))\n",
        "print(\"test mse : \", mse1)"
      ],
      "execution_count": 8,
      "outputs": [
        {
          "output_type": "stream",
          "name": "stdout",
          "text": [
            "results of linear reg for test set: \n",
            "test mse :  0.007935330316995358\n"
          ]
        }
      ]
    },
    {
      "cell_type": "code",
      "metadata": {
        "colab": {
          "base_uri": "https://localhost:8080/"
        },
        "id": "zwUz7N-XXuba",
        "outputId": "872baaa5-076f-410e-afa8-cd9503a50347"
      },
      "source": [
        "print(\"mse : \", mse1)\n",
        "print(\"Actual Values : \", y_test)\n",
        "print(\"Predicted values : \", SGDReg_1.predict(x_test))\n"
      ],
      "execution_count": 9,
      "outputs": [
        {
          "output_type": "stream",
          "name": "stdout",
          "text": [
            "mse :  0.007935330316995358\n",
            "Actual Values :  59    0.384899\n",
            "19    0.274221\n",
            "61    0.378291\n",
            "17         0.2\n",
            "37    0.481079\n",
            "10    0.368398\n",
            "49     0.33381\n",
            "50    0.545977\n",
            "55    0.795741\n",
            "34     0.51703\n",
            "5     0.632961\n",
            "48    0.567642\n",
            "47    0.398972\n",
            "Name: Annual Return, dtype: object\n",
            "Predicted values :  [0.42143594 0.3124017  0.42000287 0.29020661 0.4429807  0.47489263\n",
            " 0.39364716 0.5101233  0.56900143 0.44536675 0.5254257  0.49902576\n",
            " 0.3954385 ]\n"
          ]
        }
      ]
    },
    {
      "cell_type": "markdown",
      "metadata": {
        "id": "sbQiWE9rbh5c"
      },
      "source": [
        "# Excess Return"
      ]
    },
    {
      "cell_type": "code",
      "metadata": {
        "colab": {
          "base_uri": "https://localhost:8080/"
        },
        "id": "qBo4rU99blz6",
        "outputId": "0c0c4cac-7b0e-4009-9e54-3d7efe710e78"
      },
      "source": [
        "x = df1.iloc[:, 0:6]\n",
        "y2 = df1.iloc[:, 7]\n",
        "\n",
        "x_train,x_r,y_train,y_r = train_test_split(x,y2,train_size=0.6,random_state=3)\n",
        "x_valid, x_test, y_valid, y_test = train_test_split(x_r,y_r,test_size=0.5,random_state=3)\n",
        "lr = 0.1 #learning rate #mse :  0.006619851092433992\n",
        "rho = 0.5 #stopping criteria\n",
        "itr = 500 #epoch\n",
        "#lr = 0.001\n",
        "#rho = 0.0001\n",
        "#itr = 500\n",
        "print(\"results of linear reg: \")\n",
        "SGDReg_1 = linear_model.SGDRegressor(max_iter = itr, learning_rate = 'constant', eta0 = lr, tol = rho)\n",
        "SGDReg_1.fit(x_train, y_train)\n",
        "mse2 = mean_squared_error(y_valid, SGDReg_1.predict(x_valid))\n",
        "print(\"mse : \", mse2)\n"
      ],
      "execution_count": 12,
      "outputs": [
        {
          "output_type": "stream",
          "name": "stdout",
          "text": [
            "results of linear reg: \n",
            "mse :  0.00712187188638916\n"
          ]
        }
      ]
    },
    {
      "cell_type": "code",
      "metadata": {
        "colab": {
          "base_uri": "https://localhost:8080/"
        },
        "id": "BSstbDgPoGlk",
        "outputId": "ed9c4aaf-8bc9-472a-da0a-e12fe2f7deac"
      },
      "source": [
        "lr = 0.1 #learning rate\n",
        "rho = 0.5 #stopping criteria\n",
        "itr = 500 #epoch\n",
        "print(\"results of linear reg for test set: \")\n",
        "SGDReg_1 = linear_model.SGDRegressor(max_iter = itr, learning_rate = 'constant', eta0 = lr, tol = rho)\n",
        "SGDReg_1.fit(x_train, y_train)\n",
        "mse2 = mean_squared_error(y_test, SGDReg_1.predict(x_test))\n",
        "print(\"mse : \", mse2)"
      ],
      "execution_count": 13,
      "outputs": [
        {
          "output_type": "stream",
          "name": "stdout",
          "text": [
            "results of linear reg for test set: \n",
            "mse :  0.010434532064699503\n"
          ]
        }
      ]
    },
    {
      "cell_type": "code",
      "metadata": {
        "colab": {
          "base_uri": "https://localhost:8080/"
        },
        "id": "MBk74pzfokOa",
        "outputId": "d661159d-a19a-409a-a1fb-cecab3095daa"
      },
      "source": [
        "print(\"mse : \", mse2)\n",
        "print(\"Actual Values : \", y_test)\n",
        "print(\"Predicted values : \", SGDReg_1.predict(x_test))"
      ],
      "execution_count": 14,
      "outputs": [
        {
          "output_type": "stream",
          "name": "stdout",
          "text": [
            "mse :  0.010434532064699503\n",
            "Actual Values :  59    0.515604\n",
            "19    0.318641\n",
            "61    0.558443\n",
            "17    0.465028\n",
            "37    0.511664\n",
            "10    0.699995\n",
            "49    0.495608\n",
            "50    0.578402\n",
            "55    0.703839\n",
            "34     0.53918\n",
            "5     0.634952\n",
            "48         0.8\n",
            "47    0.563954\n",
            "Name: Excess Return, dtype: object\n",
            "Predicted values :  [0.51345901 0.3918763  0.50363109 0.4730472  0.45737381 0.58015017\n",
            " 0.48601324 0.50241707 0.54355007 0.47373729 0.57410252 0.54300252\n",
            " 0.49829813]\n"
          ]
        }
      ]
    },
    {
      "cell_type": "markdown",
      "metadata": {
        "id": "p-WkxwYIpD3v"
      },
      "source": [
        "# Systematic Risk"
      ]
    },
    {
      "cell_type": "code",
      "metadata": {
        "colab": {
          "base_uri": "https://localhost:8080/"
        },
        "id": "AJUrTEcnpC9a",
        "outputId": "508434f4-631a-4393-8244-ff2708b943a7"
      },
      "source": [
        "x = df1.iloc[:, 0:6]\n",
        "y3 = df1.iloc[:, 8]\n",
        "\n",
        "x_train,x_r,y_train,y_r = train_test_split(x,y3,train_size=0.6,random_state=3)\n",
        "x_valid, x_test, y_valid, y_test = train_test_split(x_r,y_r,test_size=0.5,random_state=3)\n",
        "lr = 0.1 #learning rate  #mse :  0.013758178600912298\n",
        "rho = 0.5 #stopping criteria\n",
        "itr = 500 #epoch\n",
        "#lr = 0.0001\n",
        "#rho = 0.001\n",
        "#itr = 2000\n",
        "print(\"results of linear reg: \")\n",
        "SGDReg_1 = linear_model.SGDRegressor(max_iter = itr, learning_rate = 'constant', eta0 = lr, tol = rho)\n",
        "SGDReg_1.fit(x_train, y_train)\n",
        "mse3 = mean_squared_error(y_valid, SGDReg_1.predict(x_valid))\n",
        "print(\"mse : \", mse3)"
      ],
      "execution_count": null,
      "outputs": [
        {
          "output_type": "stream",
          "name": "stdout",
          "text": [
            "results of linear reg: \n",
            "mse :  0.013758178600912298\n"
          ]
        }
      ]
    },
    {
      "cell_type": "code",
      "metadata": {
        "colab": {
          "base_uri": "https://localhost:8080/"
        },
        "id": "txA8Nf1Fp2EO",
        "outputId": "3658577b-bc83-4a7e-f872-8aa288f91158"
      },
      "source": [
        "lr = 0.1 \n",
        "rho = 0.5 \n",
        "max_itr = 500 \n",
        "\n",
        "print(\"results of linear reg for test set: \")\n",
        "SGDReg_1 = linear_model.SGDRegressor(max_iter = itr, learning_rate = 'constant', eta0 = lr, tol = rho)\n",
        "SGDReg_1.fit(x_train, y_train)\n",
        "mse3 = mean_squared_error(y_test, SGDReg_1.predict(x_test))\n",
        "print(\"mse : \", mse3)"
      ],
      "execution_count": null,
      "outputs": [
        {
          "output_type": "stream",
          "name": "stdout",
          "text": [
            "results of linear reg for test set: \n",
            "mse :  0.008229190784099592\n"
          ]
        }
      ]
    },
    {
      "cell_type": "code",
      "metadata": {
        "colab": {
          "base_uri": "https://localhost:8080/"
        },
        "id": "I1Gj28CspyiQ",
        "outputId": "6efd7b91-768b-46a1-8b55-865990ea4ca2"
      },
      "source": [
        "print(\"mse : \", mse3)\n",
        "print(\"Actual Values : \", y_test)\n",
        "print(\"Predicted values : \", SGDReg_1.predict(x_test))"
      ],
      "execution_count": null,
      "outputs": [
        {
          "output_type": "stream",
          "name": "stdout",
          "text": [
            "mse :  0.008229190784099592\n",
            "Actual Values :  59    0.383468\n",
            "19    0.462653\n",
            "61    0.336303\n",
            "17     0.25177\n",
            "37    0.483168\n",
            "10         0.2\n",
            "49     0.36207\n",
            "50     0.47854\n",
            "55    0.582114\n",
            "34    0.485741\n",
            "5      0.46601\n",
            "48    0.295212\n",
            "47    0.362573\n",
            "Name: Systematic Risk, dtype: object\n",
            "Predicted values :  [0.40897519 0.44805195 0.42734891 0.3425177  0.50308667 0.41523472\n",
            " 0.43164333 0.50782185 0.50336169 0.47249443 0.41017121 0.45505473\n",
            " 0.40867618]\n"
          ]
        }
      ]
    },
    {
      "cell_type": "markdown",
      "metadata": {
        "id": "UBZReTZdqSb0"
      },
      "source": [
        "# Total Risk"
      ]
    },
    {
      "cell_type": "code",
      "metadata": {
        "colab": {
          "base_uri": "https://localhost:8080/"
        },
        "id": "btLIigpkqaOW",
        "outputId": "eec04bca-2e7c-4f00-bb22-b945f5729ae4"
      },
      "source": [
        "x = df1.iloc[:, 0:6]\n",
        "y4 = df1.iloc[:, 9]\n",
        "\n",
        "x_train,x_r,y_train,y_r = train_test_split(x,y4,train_size=0.6,random_state=3)\n",
        "x_valid, x_test, y_valid, y_test = train_test_split(x_r,y_r,test_size=0.5,random_state=3)\n",
        "lr = 0.1 #learning rate  #mse :  0.007897522852629752\n",
        "rho = 0.5 #stopping criteria\n",
        "itr = 500 #epoch\n",
        "#lr = 0.0001 #mse :  0.11210510398936405\n",
        "#rho = 0.001\n",
        "#itr = 2000\n",
        "print(\"results of linear reg: \")\n",
        "SGDReg_1 = linear_model.SGDRegressor(max_iter = itr,learning_rate = 'constant',eta0 = lr,tol = rho)\n",
        "SGDReg_1.fit(x_train, y_train)\n",
        "mse4 = mean_squared_error(y_valid, SGDReg_1.predict(x_valid))\n",
        "print(\"mse : \", mse4)"
      ],
      "execution_count": null,
      "outputs": [
        {
          "output_type": "stream",
          "name": "stdout",
          "text": [
            "results of linear reg: \n",
            "mse :  0.007897522852629752\n"
          ]
        }
      ]
    },
    {
      "cell_type": "code",
      "metadata": {
        "colab": {
          "base_uri": "https://localhost:8080/"
        },
        "id": "MyyMWRH6raRU",
        "outputId": "6074749e-c532-4f72-cdb0-8163dbaf98ed"
      },
      "source": [
        "lr = 0.1 \n",
        "rho = 0.5 \n",
        "itr = 500 \n",
        "print(\"results of linear reg for test set: \")\n",
        "SGDReg_1 = linear_model.SGDRegressor(max_iter = itr,learning_rate = 'constant',eta0 = lr,tol = rho)\n",
        "SGDReg_1.fit(x_train, y_train)\n",
        "mse4 = mean_squared_error(y_test, SGDReg_1.predict(x_test))\n",
        "print(\"mse : \", mse4)"
      ],
      "execution_count": null,
      "outputs": [
        {
          "output_type": "stream",
          "name": "stdout",
          "text": [
            "results of linear reg for test set: \n",
            "mse :  0.0035295332332010458\n"
          ]
        }
      ]
    },
    {
      "cell_type": "code",
      "metadata": {
        "colab": {
          "base_uri": "https://localhost:8080/"
        },
        "id": "_PFU0r54rvUS",
        "outputId": "6264e825-8cd0-4964-9d04-ff0ece1dfabf"
      },
      "source": [
        "print(\"mse : \", mse4)\n",
        "print(\"Actual Values : \", y_test)\n",
        "print(\"Predicted values : \", SGDReg_1.predict(x_test))"
      ],
      "execution_count": null,
      "outputs": [
        {
          "output_type": "stream",
          "name": "stdout",
          "text": [
            "mse :  0.0035295332332010458\n",
            "Actual Values :  59    0.353574\n",
            "19    0.411816\n",
            "61    0.325086\n",
            "17    0.301101\n",
            "37    0.416726\n",
            "10    0.259765\n",
            "49    0.386663\n",
            "50    0.393196\n",
            "55    0.419277\n",
            "34    0.394577\n",
            "5          0.2\n",
            "48    0.304955\n",
            "47    0.388801\n",
            "Name: Total Risk, dtype: object\n",
            "Predicted values :  [0.29850724 0.34143501 0.33859867 0.31565949 0.40654576 0.40488342\n",
            " 0.37315922 0.38916178 0.35820071 0.33979354 0.20035647 0.37627402\n",
            " 0.32304493]\n"
          ]
        }
      ]
    },
    {
      "cell_type": "markdown",
      "metadata": {
        "id": "rOoe1mpBsv9l"
      },
      "source": [
        "# Abs. Win Rate"
      ]
    },
    {
      "cell_type": "code",
      "metadata": {
        "colab": {
          "base_uri": "https://localhost:8080/"
        },
        "id": "WexkWnvHsvl1",
        "outputId": "922263e8-2aac-45e5-9457-40fdeb43e1dc"
      },
      "source": [
        "x = df1.iloc[:, 0:6]\n",
        "y5 = df1.iloc[:, 10]\n",
        "\n",
        "x_train,x_r,y_train,y_r = train_test_split(x,y5,train_size=0.6,random_state=3)\n",
        "x_valid, x_test, y_valid, y_test = train_test_split(x_r,y_r,test_size=0.5,random_state=3)\n",
        "lr = 0.1 #learning rate  #mse :  0.006229052646036139\n",
        "rho = 0.5 #stopping criteria\n",
        "itr = 500 #epoch\n",
        "#lr = 0.0001 #mse :  0.24755807284476367\n",
        "#rho = 0.001\n",
        "#itr = 2000\n",
        "print(\"results of linear reg: \")\n",
        "SGDReg_1 = linear_model.SGDRegressor(max_iter = itr,learning_rate = 'constant',eta0 = lr,tol = rho)\n",
        "SGDReg_1.fit(x_train, y_train)\n",
        "mse5 = mean_squared_error(y_valid, SGDReg_1.predict(x_valid))\n",
        "print(\"mse : \", mse5)"
      ],
      "execution_count": null,
      "outputs": [
        {
          "output_type": "stream",
          "name": "stdout",
          "text": [
            "results of linear reg: \n",
            "mse :  0.006229052646036139\n"
          ]
        }
      ]
    },
    {
      "cell_type": "code",
      "metadata": {
        "colab": {
          "base_uri": "https://localhost:8080/"
        },
        "id": "0YOGiYyPtb3_",
        "outputId": "e5006409-ba04-41dc-972e-e4f50cca22d3"
      },
      "source": [
        "lr = 0.1\n",
        "rho = 0.5 \n",
        "itr = 500 \n",
        "print(\"results of linear reg: \")\n",
        "SGDReg_1 = linear_model.SGDRegressor(max_iter = itr,learning_rate = 'constant',eta0 = lr,tol = rho)\n",
        "SGDReg_1.fit(x_train, y_train)\n",
        "mse5 = mean_squared_error(y_test, SGDReg_1.predict(x_test))\n",
        "print(\"mse : \", mse5)"
      ],
      "execution_count": null,
      "outputs": [
        {
          "output_type": "stream",
          "name": "stdout",
          "text": [
            "results of linear reg: \n",
            "mse :  0.011350579485838595\n"
          ]
        }
      ]
    },
    {
      "cell_type": "code",
      "metadata": {
        "colab": {
          "base_uri": "https://localhost:8080/"
        },
        "id": "irlf-9x-to9u",
        "outputId": "74541cad-4be5-401a-8d88-cb05fc3d55da"
      },
      "source": [
        "print(\"mse : \", mse5)\n",
        "print(\"Actual Values : \", y_test)\n",
        "print(\"Predicted values : \", SGDReg_1.predict(x_test))"
      ],
      "execution_count": null,
      "outputs": [
        {
          "output_type": "stream",
          "name": "stdout",
          "text": [
            "mse :  0.011350579485838595\n",
            "Actual Values :  59    0.542857\n",
            "19    0.285714\n",
            "61    0.285714\n",
            "17    0.285714\n",
            "37    0.371429\n",
            "10    0.457143\n",
            "49         0.2\n",
            "50    0.457143\n",
            "55    0.457143\n",
            "34    0.371429\n",
            "5          0.8\n",
            "48    0.457143\n",
            "47    0.371429\n",
            "Name: Abs. Win Rate, dtype: object\n",
            "Predicted values :  [0.41035833 0.31691226 0.40575215 0.35771709 0.37227728 0.43380086\n",
            " 0.37535656 0.4057326  0.46182757 0.37994658 0.52733449 0.42613501\n",
            " 0.38111429]\n"
          ]
        }
      ]
    },
    {
      "cell_type": "markdown",
      "metadata": {
        "id": "jAywZrfPtzMr"
      },
      "source": [
        "# Rel. Win Rate"
      ]
    },
    {
      "cell_type": "code",
      "metadata": {
        "colab": {
          "base_uri": "https://localhost:8080/"
        },
        "id": "ynf00JLGt2a2",
        "outputId": "d0fede05-9422-43ba-d085-576d0f11660a"
      },
      "source": [
        "x = df1.iloc[:, 0:6]\n",
        "y6 = df1.iloc[:, 11]\n",
        "\n",
        "x_train,x_r,y_train,y_r = train_test_split(x,y6,train_size=0.6,random_state=3)\n",
        "x_valid, x_test, y_valid, y_test = train_test_split(x_r,y_r,test_size=0.5,random_state=3)\n",
        "lr = 0.1 #learning rate  #mse :  0.006815174199087365\n",
        "rho = 0.5 #stopping criteria\n",
        "itr = 500 #epoch\n",
        "#lr = 0.0001 #mse :  0.22999264321094445 \n",
        "#lr = 0.1 #mse :  0.006966749572783009\n",
        "#rho = 0.001\n",
        "#itr = 2000\n",
        "print(\"results of linear reg: \")\n",
        "SGDReg_1 = linear_model.SGDRegressor(max_iter = itr,learning_rate = 'constant',eta0 = lr,tol = rho)\n",
        "SGDReg_1.fit(x_train, y_train)\n",
        "mse6 = mean_squared_error(y_valid, SGDReg_1.predict(x_valid))\n",
        "print(\"mse : \", mse6)"
      ],
      "execution_count": null,
      "outputs": [
        {
          "output_type": "stream",
          "name": "stdout",
          "text": [
            "results of linear reg: \n",
            "mse :  0.006815174199087365\n"
          ]
        }
      ]
    },
    {
      "cell_type": "code",
      "metadata": {
        "colab": {
          "base_uri": "https://localhost:8080/"
        },
        "id": "WO6oJEFbu1P8",
        "outputId": "442f971c-6543-47c7-edc1-b205e9a12b84"
      },
      "source": [
        "lr = 0.1 \n",
        "rho = 0.5 \n",
        "itr = 500 \n",
        "\n",
        "print(\"results of linear reg for test set: \")\n",
        "SGDReg_1 = linear_model.SGDRegressor(max_iter = itr,learning_rate = 'constant',eta0 = lr,tol = rho)\n",
        "SGDReg_1.fit(x_train, y_train)\n",
        "mse6 = mean_squared_error(y_test, SGDReg_1.predict(x_test))\n",
        "print(\"mse : \", mse6)"
      ],
      "execution_count": null,
      "outputs": [
        {
          "output_type": "stream",
          "name": "stdout",
          "text": [
            "results of linear reg for test set: \n",
            "mse :  0.010948480720243382\n"
          ]
        }
      ]
    },
    {
      "cell_type": "code",
      "metadata": {
        "colab": {
          "base_uri": "https://localhost:8080/"
        },
        "id": "C30NjJ31vPLY",
        "outputId": "b0c2b5f9-5a8a-4006-ca01-a4216193f7f1"
      },
      "source": [
        "print(\"mse : \", mse6)\n",
        "print(\"Actual Values : \", y_test)\n",
        "print(\"Predicted values : \", SGDReg_1.predict(x_test))"
      ],
      "execution_count": null,
      "outputs": [
        {
          "output_type": "stream",
          "name": "stdout",
          "text": [
            "mse :  0.010948480720243382\n",
            "Actual Values :  59    0.6\n",
            "19    0.4\n",
            "61    0.4\n",
            "17    0.4\n",
            "37    0.5\n",
            "10    0.6\n",
            "49    0.3\n",
            "50    0.5\n",
            "55    0.6\n",
            "34    0.6\n",
            "5     0.3\n",
            "48    0.7\n",
            "47    0.5\n",
            "Name: Rel. Win Rate, dtype: object\n",
            "Predicted values :  [0.48250558 0.47682945 0.44650149 0.46571904 0.4769558  0.42062722\n",
            " 0.44872833 0.52212012 0.53499998 0.53690261 0.4375941  0.51656492\n",
            " 0.49373345]\n"
          ]
        }
      ]
    }
  ]
}